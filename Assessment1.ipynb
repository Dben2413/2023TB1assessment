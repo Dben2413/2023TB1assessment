{
 "cells": [
  {
   "cell_type": "markdown",
   "id": "6feae6b2",
   "metadata": {},
   "source": [
    "Importing the required library, pandas is for dataframe management. jupier is the module which contains the class and methods."
   ]
  },
  {
   "cell_type": "code",
   "execution_count": 1,
   "id": "ae863585",
   "metadata": {},
   "outputs": [],
   "source": [
    "import pandas as pd\n",
    "from jupiter import Moon\n",
    "#defining the database form and name.\n",
    "database_service = \"sqlite\"\n",
    "database = \"jupiter.db\"\n",
    "connectable = f\"{database_service}:///{database}\"\n",
    "query = \"SELECT * FROM moons\"\n",
    "#define vairable files to store the dataframe temporarily\n",
    "files = pd.read_sql(query,connectable)\n"
   ]
  },
  {
   "cell_type": "markdown",
   "id": "86d7b523",
   "metadata": {},
   "source": [
    "Display the frist few rows to see what the dataset contains."
   ]
  },
  {
   "cell_type": "code",
   "execution_count": 2,
   "id": "32000378",
   "metadata": {},
   "outputs": [
    {
     "data": {
      "text/html": [
       "<div>\n",
       "<style scoped>\n",
       "    .dataframe tbody tr th:only-of-type {\n",
       "        vertical-align: middle;\n",
       "    }\n",
       "\n",
       "    .dataframe tbody tr th {\n",
       "        vertical-align: top;\n",
       "    }\n",
       "\n",
       "    .dataframe thead th {\n",
       "        text-align: right;\n",
       "    }\n",
       "</style>\n",
       "<table border=\"1\" class=\"dataframe\">\n",
       "  <thead>\n",
       "    <tr style=\"text-align: right;\">\n",
       "      <th></th>\n",
       "      <th>moon</th>\n",
       "      <th>period_days</th>\n",
       "      <th>distance_km</th>\n",
       "      <th>radius_km</th>\n",
       "      <th>mag</th>\n",
       "      <th>mass_kg</th>\n",
       "      <th>group</th>\n",
       "      <th>ecc</th>\n",
       "      <th>inclination_deg</th>\n",
       "    </tr>\n",
       "  </thead>\n",
       "  <tbody>\n",
       "    <tr>\n",
       "      <th>0</th>\n",
       "      <td>Adrastea</td>\n",
       "      <td>0.298</td>\n",
       "      <td>129000.0</td>\n",
       "      <td>8.2</td>\n",
       "      <td>NaN</td>\n",
       "      <td>NaN</td>\n",
       "      <td>Inner</td>\n",
       "      <td>0.001500</td>\n",
       "      <td>0.03</td>\n",
       "    </tr>\n",
       "    <tr>\n",
       "      <th>1</th>\n",
       "      <td>Aitne</td>\n",
       "      <td>730.000</td>\n",
       "      <td>23231000.0</td>\n",
       "      <td>1.5</td>\n",
       "      <td>22.7</td>\n",
       "      <td>NaN</td>\n",
       "      <td>Carme</td>\n",
       "      <td>0.264000</td>\n",
       "      <td>165.00</td>\n",
       "    </tr>\n",
       "    <tr>\n",
       "      <th>2</th>\n",
       "      <td>Amalthea</td>\n",
       "      <td>0.498</td>\n",
       "      <td>181400.0</td>\n",
       "      <td>83.5</td>\n",
       "      <td>14.1</td>\n",
       "      <td>2.080000e+18</td>\n",
       "      <td>Inner</td>\n",
       "      <td>0.003190</td>\n",
       "      <td>0.37</td>\n",
       "    </tr>\n",
       "    <tr>\n",
       "      <th>3</th>\n",
       "      <td>Ananke</td>\n",
       "      <td>630.000</td>\n",
       "      <td>21300000.0</td>\n",
       "      <td>14.0</td>\n",
       "      <td>18.9</td>\n",
       "      <td>NaN</td>\n",
       "      <td>Ananke</td>\n",
       "      <td>0.174725</td>\n",
       "      <td>148.60</td>\n",
       "    </tr>\n",
       "    <tr>\n",
       "      <th>4</th>\n",
       "      <td>Aoede</td>\n",
       "      <td>761.000</td>\n",
       "      <td>24000000.0</td>\n",
       "      <td>2.0</td>\n",
       "      <td>22.5</td>\n",
       "      <td>NaN</td>\n",
       "      <td>Pasiphae</td>\n",
       "      <td>0.432000</td>\n",
       "      <td>158.00</td>\n",
       "    </tr>\n",
       "  </tbody>\n",
       "</table>\n",
       "</div>"
      ],
      "text/plain": [
       "       moon  period_days  distance_km  radius_km   mag       mass_kg  \\\n",
       "0  Adrastea        0.298     129000.0        8.2   NaN           NaN   \n",
       "1     Aitne      730.000   23231000.0        1.5  22.7           NaN   \n",
       "2  Amalthea        0.498     181400.0       83.5  14.1  2.080000e+18   \n",
       "3    Ananke      630.000   21300000.0       14.0  18.9           NaN   \n",
       "4     Aoede      761.000   24000000.0        2.0  22.5           NaN   \n",
       "\n",
       "      group       ecc  inclination_deg  \n",
       "0     Inner  0.001500             0.03  \n",
       "1     Carme  0.264000           165.00  \n",
       "2     Inner  0.003190             0.37  \n",
       "3    Ananke  0.174725           148.60  \n",
       "4  Pasiphae  0.432000           158.00  "
      ]
     },
     "execution_count": 2,
     "metadata": {},
     "output_type": "execute_result"
    }
   ],
   "source": [
    "files.head()"
   ]
  },
  {
   "cell_type": "markdown",
   "id": "c3c80c59",
   "metadata": {},
   "source": [
    "Define variable moons as self-defined class Moon, and reset the index to the name of each moon. "
   ]
  },
  {
   "cell_type": "code",
   "execution_count": 3,
   "id": "e1bcaf90",
   "metadata": {},
   "outputs": [
    {
     "data": {
      "text/html": [
       "<div>\n",
       "<style scoped>\n",
       "    .dataframe tbody tr th:only-of-type {\n",
       "        vertical-align: middle;\n",
       "    }\n",
       "\n",
       "    .dataframe tbody tr th {\n",
       "        vertical-align: top;\n",
       "    }\n",
       "\n",
       "    .dataframe thead th {\n",
       "        text-align: right;\n",
       "    }\n",
       "</style>\n",
       "<table border=\"1\" class=\"dataframe\">\n",
       "  <thead>\n",
       "    <tr style=\"text-align: right;\">\n",
       "      <th></th>\n",
       "      <th>period_days</th>\n",
       "      <th>distance_km</th>\n",
       "      <th>radius_km</th>\n",
       "      <th>mag</th>\n",
       "      <th>mass_kg</th>\n",
       "      <th>group</th>\n",
       "      <th>ecc</th>\n",
       "      <th>inclination_deg</th>\n",
       "    </tr>\n",
       "    <tr>\n",
       "      <th>moon</th>\n",
       "      <th></th>\n",
       "      <th></th>\n",
       "      <th></th>\n",
       "      <th></th>\n",
       "      <th></th>\n",
       "      <th></th>\n",
       "      <th></th>\n",
       "      <th></th>\n",
       "    </tr>\n",
       "  </thead>\n",
       "  <tbody>\n",
       "    <tr>\n",
       "      <th>Adrastea</th>\n",
       "      <td>0.298</td>\n",
       "      <td>129000.0</td>\n",
       "      <td>8.2</td>\n",
       "      <td>NaN</td>\n",
       "      <td>NaN</td>\n",
       "      <td>Inner</td>\n",
       "      <td>0.001500</td>\n",
       "      <td>0.03</td>\n",
       "    </tr>\n",
       "    <tr>\n",
       "      <th>Aitne</th>\n",
       "      <td>730.000</td>\n",
       "      <td>23231000.0</td>\n",
       "      <td>1.5</td>\n",
       "      <td>22.7</td>\n",
       "      <td>NaN</td>\n",
       "      <td>Carme</td>\n",
       "      <td>0.264000</td>\n",
       "      <td>165.00</td>\n",
       "    </tr>\n",
       "    <tr>\n",
       "      <th>Amalthea</th>\n",
       "      <td>0.498</td>\n",
       "      <td>181400.0</td>\n",
       "      <td>83.5</td>\n",
       "      <td>14.1</td>\n",
       "      <td>2.080000e+18</td>\n",
       "      <td>Inner</td>\n",
       "      <td>0.003190</td>\n",
       "      <td>0.37</td>\n",
       "    </tr>\n",
       "    <tr>\n",
       "      <th>Ananke</th>\n",
       "      <td>630.000</td>\n",
       "      <td>21300000.0</td>\n",
       "      <td>14.0</td>\n",
       "      <td>18.9</td>\n",
       "      <td>NaN</td>\n",
       "      <td>Ananke</td>\n",
       "      <td>0.174725</td>\n",
       "      <td>148.60</td>\n",
       "    </tr>\n",
       "    <tr>\n",
       "      <th>Aoede</th>\n",
       "      <td>761.000</td>\n",
       "      <td>24000000.0</td>\n",
       "      <td>2.0</td>\n",
       "      <td>22.5</td>\n",
       "      <td>NaN</td>\n",
       "      <td>Pasiphae</td>\n",
       "      <td>0.432000</td>\n",
       "      <td>158.00</td>\n",
       "    </tr>\n",
       "  </tbody>\n",
       "</table>\n",
       "</div>"
      ],
      "text/plain": [
       "          period_days  distance_km  radius_km   mag       mass_kg     group  \\\n",
       "moon                                                                          \n",
       "Adrastea        0.298     129000.0        8.2   NaN           NaN     Inner   \n",
       "Aitne         730.000   23231000.0        1.5  22.7           NaN     Carme   \n",
       "Amalthea        0.498     181400.0       83.5  14.1  2.080000e+18     Inner   \n",
       "Ananke        630.000   21300000.0       14.0  18.9           NaN    Ananke   \n",
       "Aoede         761.000   24000000.0        2.0  22.5           NaN  Pasiphae   \n",
       "\n",
       "               ecc  inclination_deg  \n",
       "moon                                 \n",
       "Adrastea  0.001500             0.03  \n",
       "Aitne     0.264000           165.00  \n",
       "Amalthea  0.003190             0.37  \n",
       "Ananke    0.174725           148.60  \n",
       "Aoede     0.432000           158.00  "
      ]
     },
     "execution_count": 3,
     "metadata": {},
     "output_type": "execute_result"
    }
   ],
   "source": [
    "moons = Moon(files.set_index(\"moon\"),files.set_index(\"moon\"))\n",
    "moons.data.head()"
   ]
  },
  {
   "cell_type": "markdown",
   "id": "d3034976",
   "metadata": {},
   "source": [
    "Two methods are shown below. Moon.locate(\"name of moon\") gives all data of the input moon, Moon.locate_singal(\"name of moon\",\"specific data\") gives the specific data of chosen moon."
   ]
  },
  {
   "cell_type": "code",
   "execution_count": 4,
   "id": "d3250488",
   "metadata": {},
   "outputs": [
    {
     "name": "stdout",
     "output_type": "stream",
     "text": [
      "period_days           0.298\n",
      "distance_km        129000.0\n",
      "radius_km               8.2\n",
      "mag                     NaN\n",
      "mass_kg                 NaN\n",
      "group                 Inner\n",
      "ecc                  0.0015\n",
      "inclination_deg        0.03\n",
      "Name: Adrastea, dtype: object \n",
      "\n",
      "0.298\n"
     ]
    }
   ],
   "source": [
    "print(moons.locate(\"Adrastea\"),\"\\n\")\n",
    "print(moons.locate_singal(\"Adrastea\",\"period_days\"))"
   ]
  },
  {
   "cell_type": "markdown",
   "id": "5a996fd2",
   "metadata": {},
   "source": [
    "Noticing that the mass data for moons seem to be incorrect, using Moon.drop(\"column name\") to erase the whole column from the datraset. "
   ]
  },
  {
   "cell_type": "code",
   "execution_count": 5,
   "id": "997b95bd",
   "metadata": {},
   "outputs": [
    {
     "data": {
      "text/html": [
       "<div>\n",
       "<style scoped>\n",
       "    .dataframe tbody tr th:only-of-type {\n",
       "        vertical-align: middle;\n",
       "    }\n",
       "\n",
       "    .dataframe tbody tr th {\n",
       "        vertical-align: top;\n",
       "    }\n",
       "\n",
       "    .dataframe thead th {\n",
       "        text-align: right;\n",
       "    }\n",
       "</style>\n",
       "<table border=\"1\" class=\"dataframe\">\n",
       "  <thead>\n",
       "    <tr style=\"text-align: right;\">\n",
       "      <th></th>\n",
       "      <th>period_days</th>\n",
       "      <th>distance_km</th>\n",
       "      <th>radius_km</th>\n",
       "      <th>mag</th>\n",
       "      <th>group</th>\n",
       "      <th>ecc</th>\n",
       "      <th>inclination_deg</th>\n",
       "    </tr>\n",
       "    <tr>\n",
       "      <th>moon</th>\n",
       "      <th></th>\n",
       "      <th></th>\n",
       "      <th></th>\n",
       "      <th></th>\n",
       "      <th></th>\n",
       "      <th></th>\n",
       "      <th></th>\n",
       "    </tr>\n",
       "  </thead>\n",
       "  <tbody>\n",
       "    <tr>\n",
       "      <th>Adrastea</th>\n",
       "      <td>0.298</td>\n",
       "      <td>129000.0</td>\n",
       "      <td>8.2</td>\n",
       "      <td>NaN</td>\n",
       "      <td>Inner</td>\n",
       "      <td>0.001500</td>\n",
       "      <td>0.03</td>\n",
       "    </tr>\n",
       "    <tr>\n",
       "      <th>Aitne</th>\n",
       "      <td>730.000</td>\n",
       "      <td>23231000.0</td>\n",
       "      <td>1.5</td>\n",
       "      <td>22.7</td>\n",
       "      <td>Carme</td>\n",
       "      <td>0.264000</td>\n",
       "      <td>165.00</td>\n",
       "    </tr>\n",
       "    <tr>\n",
       "      <th>Amalthea</th>\n",
       "      <td>0.498</td>\n",
       "      <td>181400.0</td>\n",
       "      <td>83.5</td>\n",
       "      <td>14.1</td>\n",
       "      <td>Inner</td>\n",
       "      <td>0.003190</td>\n",
       "      <td>0.37</td>\n",
       "    </tr>\n",
       "    <tr>\n",
       "      <th>Ananke</th>\n",
       "      <td>630.000</td>\n",
       "      <td>21300000.0</td>\n",
       "      <td>14.0</td>\n",
       "      <td>18.9</td>\n",
       "      <td>Ananke</td>\n",
       "      <td>0.174725</td>\n",
       "      <td>148.60</td>\n",
       "    </tr>\n",
       "    <tr>\n",
       "      <th>Aoede</th>\n",
       "      <td>761.000</td>\n",
       "      <td>24000000.0</td>\n",
       "      <td>2.0</td>\n",
       "      <td>22.5</td>\n",
       "      <td>Pasiphae</td>\n",
       "      <td>0.432000</td>\n",
       "      <td>158.00</td>\n",
       "    </tr>\n",
       "  </tbody>\n",
       "</table>\n",
       "</div>"
      ],
      "text/plain": [
       "          period_days  distance_km  radius_km   mag     group       ecc  \\\n",
       "moon                                                                      \n",
       "Adrastea        0.298     129000.0        8.2   NaN     Inner  0.001500   \n",
       "Aitne         730.000   23231000.0        1.5  22.7     Carme  0.264000   \n",
       "Amalthea        0.498     181400.0       83.5  14.1     Inner  0.003190   \n",
       "Ananke        630.000   21300000.0       14.0  18.9    Ananke  0.174725   \n",
       "Aoede         761.000   24000000.0        2.0  22.5  Pasiphae  0.432000   \n",
       "\n",
       "          inclination_deg  \n",
       "moon                       \n",
       "Adrastea             0.03  \n",
       "Aitne              165.00  \n",
       "Amalthea             0.37  \n",
       "Ananke             148.60  \n",
       "Aoede              158.00  "
      ]
     },
     "execution_count": 5,
     "metadata": {},
     "output_type": "execute_result"
    }
   ],
   "source": [
    "moons.drop(\"mass_kg\")\n",
    "moons.data.head()"
   ]
  },
  {
   "cell_type": "markdown",
   "id": "caf90178",
   "metadata": {},
   "source": [
    "Moon.columns() returns a list of column names."
   ]
  },
  {
   "cell_type": "code",
   "execution_count": 6,
   "id": "93c9ba22",
   "metadata": {},
   "outputs": [
    {
     "name": "stdout",
     "output_type": "stream",
     "text": [
      "['period_days', 'distance_km', 'radius_km', 'mag', 'group', 'ecc', 'inclination_deg']\n"
     ]
    }
   ],
   "source": [
    "print(moons.columns())"
   ]
  },
  {
   "cell_type": "markdown",
   "id": "e3aae41f",
   "metadata": {},
   "source": [
    "Moon.means(\"column name\") returns the mean of given column. Moons.std(\"column name\") returns the stdandard deviation of given column."
   ]
  },
  {
   "cell_type": "code",
   "execution_count": 7,
   "id": "fd786f22",
   "metadata": {},
   "outputs": [
    {
     "name": "stdout",
     "output_type": "stream",
     "text": [
      "mean of period_days is 525.9981464178571\n"
     ]
    },
    {
     "data": {
      "text/plain": [
       "525.9981464178571"
      ]
     },
     "execution_count": 7,
     "metadata": {},
     "output_type": "execute_result"
    }
   ],
   "source": [
    "moons.means(\"period_days\")"
   ]
  },
  {
   "cell_type": "code",
   "execution_count": 8,
   "id": "3bdf36ce",
   "metadata": {},
   "outputs": [
    {
     "name": "stdout",
     "output_type": "stream",
     "text": [
      "standard deviation of period_days is 272.6702433032667\n"
     ]
    }
   ],
   "source": [
    "moons.std(\"period_days\")"
   ]
  },
  {
   "cell_type": "markdown",
   "id": "3fef9a84",
   "metadata": {},
   "source": [
    "Moon.mean_groupby(\"column name\") returns the mean of columns for specific group. Moons.std_groupby(\"column name\") returns the stdandard deviation of columns for specific group."
   ]
  },
  {
   "cell_type": "code",
   "execution_count": 9,
   "id": "7c8d075a",
   "metadata": {},
   "outputs": [
    {
     "data": {
      "text/html": [
       "<div>\n",
       "<style scoped>\n",
       "    .dataframe tbody tr th:only-of-type {\n",
       "        vertical-align: middle;\n",
       "    }\n",
       "\n",
       "    .dataframe tbody tr th {\n",
       "        vertical-align: top;\n",
       "    }\n",
       "\n",
       "    .dataframe thead th {\n",
       "        text-align: right;\n",
       "    }\n",
       "</style>\n",
       "<table border=\"1\" class=\"dataframe\">\n",
       "  <thead>\n",
       "    <tr style=\"text-align: right;\">\n",
       "      <th></th>\n",
       "      <th>period_days</th>\n",
       "      <th>distance_km</th>\n",
       "      <th>radius_km</th>\n",
       "      <th>mag</th>\n",
       "      <th>ecc</th>\n",
       "      <th>inclination_deg</th>\n",
       "    </tr>\n",
       "    <tr>\n",
       "      <th>group</th>\n",
       "      <th></th>\n",
       "      <th></th>\n",
       "      <th></th>\n",
       "      <th></th>\n",
       "      <th></th>\n",
       "      <th></th>\n",
       "    </tr>\n",
       "  </thead>\n",
       "  <tbody>\n",
       "    <tr>\n",
       "      <th>Ananke</th>\n",
       "      <td>616.076923</td>\n",
       "      <td>2.097923e+07</td>\n",
       "      <td>2.653846</td>\n",
       "      <td>22.330769</td>\n",
       "      <td>0.233728</td>\n",
       "      <td>148.922308</td>\n",
       "    </tr>\n",
       "    <tr>\n",
       "      <th>Carme</th>\n",
       "      <td>721.642857</td>\n",
       "      <td>2.329515e+07</td>\n",
       "      <td>3.275000</td>\n",
       "      <td>22.450000</td>\n",
       "      <td>0.240148</td>\n",
       "      <td>164.800000</td>\n",
       "    </tr>\n",
       "    <tr>\n",
       "      <th>Galilean</th>\n",
       "      <td>7.285050</td>\n",
       "      <td>1.011425e+06</td>\n",
       "      <td>2106.700000</td>\n",
       "      <td>5.142500</td>\n",
       "      <td>0.005450</td>\n",
       "      <td>2.052500</td>\n",
       "    </tr>\n",
       "    <tr>\n",
       "      <th>Hamilia</th>\n",
       "      <td>258.000000</td>\n",
       "      <td>1.170071e+07</td>\n",
       "      <td>21.000000</td>\n",
       "      <td>18.200000</td>\n",
       "      <td>0.147873</td>\n",
       "      <td>26.300000</td>\n",
       "    </tr>\n",
       "    <tr>\n",
       "      <th>Himalia</th>\n",
       "      <td>256.666667</td>\n",
       "      <td>1.156897e+07</td>\n",
       "      <td>23.458333</td>\n",
       "      <td>19.950000</td>\n",
       "      <td>0.166636</td>\n",
       "      <td>29.151667</td>\n",
       "    </tr>\n",
       "    <tr>\n",
       "      <th>Inner</th>\n",
       "      <td>0.439000</td>\n",
       "      <td>1.650722e+05</td>\n",
       "      <td>40.550000</td>\n",
       "      <td>14.100000</td>\n",
       "      <td>0.005598</td>\n",
       "      <td>0.875000</td>\n",
       "    </tr>\n",
       "    <tr>\n",
       "      <th>Pasiphae</th>\n",
       "      <td>744.083333</td>\n",
       "      <td>2.377494e+07</td>\n",
       "      <td>5.433333</td>\n",
       "      <td>21.750000</td>\n",
       "      <td>0.350750</td>\n",
       "      <td>150.600000</td>\n",
       "    </tr>\n",
       "    <tr>\n",
       "      <th>other</th>\n",
       "      <td>293.000000</td>\n",
       "      <td>1.219256e+07</td>\n",
       "      <td>3.000000</td>\n",
       "      <td>22.000000</td>\n",
       "      <td>0.341106</td>\n",
       "      <td>48.350000</td>\n",
       "    </tr>\n",
       "  </tbody>\n",
       "</table>\n",
       "</div>"
      ],
      "text/plain": [
       "          period_days   distance_km    radius_km        mag       ecc  \\\n",
       "group                                                                   \n",
       "Ananke     616.076923  2.097923e+07     2.653846  22.330769  0.233728   \n",
       "Carme      721.642857  2.329515e+07     3.275000  22.450000  0.240148   \n",
       "Galilean     7.285050  1.011425e+06  2106.700000   5.142500  0.005450   \n",
       "Hamilia    258.000000  1.170071e+07    21.000000  18.200000  0.147873   \n",
       "Himalia    256.666667  1.156897e+07    23.458333  19.950000  0.166636   \n",
       "Inner        0.439000  1.650722e+05    40.550000  14.100000  0.005598   \n",
       "Pasiphae   744.083333  2.377494e+07     5.433333  21.750000  0.350750   \n",
       "other      293.000000  1.219256e+07     3.000000  22.000000  0.341106   \n",
       "\n",
       "          inclination_deg  \n",
       "group                      \n",
       "Ananke         148.922308  \n",
       "Carme          164.800000  \n",
       "Galilean         2.052500  \n",
       "Hamilia         26.300000  \n",
       "Himalia         29.151667  \n",
       "Inner            0.875000  \n",
       "Pasiphae       150.600000  \n",
       "other           48.350000  "
      ]
     },
     "execution_count": 9,
     "metadata": {},
     "output_type": "execute_result"
    }
   ],
   "source": [
    "moons.mean_groupby(\"group\")"
   ]
  },
  {
   "cell_type": "code",
   "execution_count": 10,
   "id": "2c0eb433",
   "metadata": {},
   "outputs": [
    {
     "data": {
      "text/html": [
       "<div>\n",
       "<style scoped>\n",
       "    .dataframe tbody tr th:only-of-type {\n",
       "        vertical-align: middle;\n",
       "    }\n",
       "\n",
       "    .dataframe tbody tr th {\n",
       "        vertical-align: top;\n",
       "    }\n",
       "\n",
       "    .dataframe thead th {\n",
       "        text-align: right;\n",
       "    }\n",
       "</style>\n",
       "<table border=\"1\" class=\"dataframe\">\n",
       "  <thead>\n",
       "    <tr style=\"text-align: right;\">\n",
       "      <th></th>\n",
       "      <th>period_days</th>\n",
       "      <th>distance_km</th>\n",
       "      <th>radius_km</th>\n",
       "      <th>mag</th>\n",
       "      <th>ecc</th>\n",
       "      <th>inclination_deg</th>\n",
       "    </tr>\n",
       "    <tr>\n",
       "      <th>group</th>\n",
       "      <th></th>\n",
       "      <th></th>\n",
       "      <th></th>\n",
       "      <th></th>\n",
       "      <th></th>\n",
       "      <th></th>\n",
       "    </tr>\n",
       "  </thead>\n",
       "  <tbody>\n",
       "    <tr>\n",
       "      <th>Ananke</th>\n",
       "      <td>23.070405</td>\n",
       "      <td>5.461083e+05</td>\n",
       "      <td>3.490371</td>\n",
       "      <td>1.235843</td>\n",
       "      <td>0.089683</td>\n",
       "      <td>2.200296</td>\n",
       "    </tr>\n",
       "    <tr>\n",
       "      <th>Carme</th>\n",
       "      <td>29.684513</td>\n",
       "      <td>5.821236e+05</td>\n",
       "      <td>5.819819</td>\n",
       "      <td>1.143376</td>\n",
       "      <td>0.040291</td>\n",
       "      <td>1.056846</td>\n",
       "    </tr>\n",
       "    <tr>\n",
       "      <th>Galilean</th>\n",
       "      <td>6.659114</td>\n",
       "      <td>6.393567e+05</td>\n",
       "      <td>499.870830</td>\n",
       "      <td>0.438891</td>\n",
       "      <td>0.003438</td>\n",
       "      <td>0.194487</td>\n",
       "    </tr>\n",
       "    <tr>\n",
       "      <th>Hamilia</th>\n",
       "      <td>NaN</td>\n",
       "      <td>NaN</td>\n",
       "      <td>NaN</td>\n",
       "      <td>NaN</td>\n",
       "      <td>NaN</td>\n",
       "      <td>NaN</td>\n",
       "    </tr>\n",
       "    <tr>\n",
       "      <th>Himalia</th>\n",
       "      <td>15.870308</td>\n",
       "      <td>3.163477e+05</td>\n",
       "      <td>33.607446</td>\n",
       "      <td>3.575332</td>\n",
       "      <td>0.041139</td>\n",
       "      <td>1.338961</td>\n",
       "    </tr>\n",
       "    <tr>\n",
       "      <th>Inner</th>\n",
       "      <td>0.181589</td>\n",
       "      <td>4.535158e+04</td>\n",
       "      <td>33.294294</td>\n",
       "      <td>NaN</td>\n",
       "      <td>0.008029</td>\n",
       "      <td>0.872792</td>\n",
       "    </tr>\n",
       "    <tr>\n",
       "      <th>Pasiphae</th>\n",
       "      <td>26.956053</td>\n",
       "      <td>6.165425e+05</td>\n",
       "      <td>8.716477</td>\n",
       "      <td>2.112947</td>\n",
       "      <td>0.100519</td>\n",
       "      <td>5.087596</td>\n",
       "    </tr>\n",
       "    <tr>\n",
       "      <th>other</th>\n",
       "      <td>230.516811</td>\n",
       "      <td>6.783183e+06</td>\n",
       "      <td>2.121320</td>\n",
       "      <td>1.414214</td>\n",
       "      <td>0.125716</td>\n",
       "      <td>4.313351</td>\n",
       "    </tr>\n",
       "  </tbody>\n",
       "</table>\n",
       "</div>"
      ],
      "text/plain": [
       "          period_days   distance_km   radius_km       mag       ecc  \\\n",
       "group                                                                 \n",
       "Ananke      23.070405  5.461083e+05    3.490371  1.235843  0.089683   \n",
       "Carme       29.684513  5.821236e+05    5.819819  1.143376  0.040291   \n",
       "Galilean     6.659114  6.393567e+05  499.870830  0.438891  0.003438   \n",
       "Hamilia           NaN           NaN         NaN       NaN       NaN   \n",
       "Himalia     15.870308  3.163477e+05   33.607446  3.575332  0.041139   \n",
       "Inner        0.181589  4.535158e+04   33.294294       NaN  0.008029   \n",
       "Pasiphae    26.956053  6.165425e+05    8.716477  2.112947  0.100519   \n",
       "other      230.516811  6.783183e+06    2.121320  1.414214  0.125716   \n",
       "\n",
       "          inclination_deg  \n",
       "group                      \n",
       "Ananke           2.200296  \n",
       "Carme            1.056846  \n",
       "Galilean         0.194487  \n",
       "Hamilia               NaN  \n",
       "Himalia          1.338961  \n",
       "Inner            0.872792  \n",
       "Pasiphae         5.087596  \n",
       "other            4.313351  "
      ]
     },
     "execution_count": 10,
     "metadata": {},
     "output_type": "execute_result"
    }
   ],
   "source": [
    "moons.std_groupby(\"group\")"
   ]
  },
  {
   "cell_type": "markdown",
   "id": "b14426e0",
   "metadata": {},
   "source": [
    "Moon.corr(\"column name\",\"column name\") returns the correlationship between two columns and plot a graph of these two columns."
   ]
  },
  {
   "cell_type": "code",
   "execution_count": 11,
   "id": "0b75b170",
   "metadata": {},
   "outputs": [
    {
     "name": "stdout",
     "output_type": "stream",
     "text": [
      "correlation factor bewteen period_days and ecc is 0.7371813498992648\n"
     ]
    },
    {
     "name": "stderr",
     "output_type": "stream",
     "text": [
      "/opt/conda/lib/python3.9/site-packages/seaborn/axisgrid.py:118: UserWarning: The figure layout has changed to tight\n",
      "  self._figure.tight_layout(*args, **kwargs)\n"
     ]
    },
    {
     "data": {
      "text/plain": [
       "0.7371813498992648"
      ]
     },
     "execution_count": 11,
     "metadata": {},
     "output_type": "execute_result"
    },
    {
     "data": {
      "image/png": "[encoded data removed]",
      "text/plain": [
       "<Figure size 500x500 with 1 Axes>"
      ]
     },
     "metadata": {},
     "output_type": "display_data"
    }
   ],
   "source": [
    "moons.corr(\"period_days\",\"ecc\")"
   ]
  },
  {
   "cell_type": "markdown",
   "id": "e9ed5403",
   "metadata": {},
   "source": [
    "Moon.corr_all() returns the correlationship between all columns and plot a heatmap."
   ]
  },
  {
   "cell_type": "code",
   "execution_count": 13,
   "id": "63400825",
   "metadata": {},
   "outputs": [
    {
     "data": {
      "text/html": [
       "<div>\n",
       "<style scoped>\n",
       "    .dataframe tbody tr th:only-of-type {\n",
       "        vertical-align: middle;\n",
       "    }\n",
       "\n",
       "    .dataframe tbody tr th {\n",
       "        vertical-align: top;\n",
       "    }\n",
       "\n",
       "    .dataframe thead th {\n",
       "        text-align: right;\n",
       "    }\n",
       "</style>\n",
       "<table border=\"1\" class=\"dataframe\">\n",
       "  <thead>\n",
       "    <tr style=\"text-align: right;\">\n",
       "      <th></th>\n",
       "      <th>period_days</th>\n",
       "      <th>distance_km</th>\n",
       "      <th>radius_km</th>\n",
       "      <th>mag</th>\n",
       "      <th>ecc</th>\n",
       "      <th>inclination_deg</th>\n",
       "    </tr>\n",
       "  </thead>\n",
       "  <tbody>\n",
       "    <tr>\n",
       "      <th>period_days</th>\n",
       "      <td>1.000000</td>\n",
       "      <td>0.991521</td>\n",
       "      <td>-0.534434</td>\n",
       "      <td>0.742646</td>\n",
       "      <td>0.737181</td>\n",
       "      <td>0.969493</td>\n",
       "    </tr>\n",
       "    <tr>\n",
       "      <th>distance_km</th>\n",
       "      <td>0.991521</td>\n",
       "      <td>1.000000</td>\n",
       "      <td>-0.567266</td>\n",
       "      <td>0.799187</td>\n",
       "      <td>0.750819</td>\n",
       "      <td>0.953873</td>\n",
       "    </tr>\n",
       "    <tr>\n",
       "      <th>radius_km</th>\n",
       "      <td>-0.534434</td>\n",
       "      <td>-0.567266</td>\n",
       "      <td>1.000000</td>\n",
       "      <td>-0.887393</td>\n",
       "      <td>-0.478901</td>\n",
       "      <td>-0.487645</td>\n",
       "    </tr>\n",
       "    <tr>\n",
       "      <th>mag</th>\n",
       "      <td>0.742646</td>\n",
       "      <td>0.799187</td>\n",
       "      <td>-0.887393</td>\n",
       "      <td>1.000000</td>\n",
       "      <td>0.554617</td>\n",
       "      <td>0.688529</td>\n",
       "    </tr>\n",
       "    <tr>\n",
       "      <th>ecc</th>\n",
       "      <td>0.737181</td>\n",
       "      <td>0.750819</td>\n",
       "      <td>-0.478901</td>\n",
       "      <td>0.554617</td>\n",
       "      <td>1.000000</td>\n",
       "      <td>0.645961</td>\n",
       "    </tr>\n",
       "    <tr>\n",
       "      <th>inclination_deg</th>\n",
       "      <td>0.969493</td>\n",
       "      <td>0.953873</td>\n",
       "      <td>-0.487645</td>\n",
       "      <td>0.688529</td>\n",
       "      <td>0.645961</td>\n",
       "      <td>1.000000</td>\n",
       "    </tr>\n",
       "  </tbody>\n",
       "</table>\n",
       "</div>"
      ],
      "text/plain": [
       "                 period_days  distance_km  radius_km       mag       ecc  \\\n",
       "period_days         1.000000     0.991521  -0.534434  0.742646  0.737181   \n",
       "distance_km         0.991521     1.000000  -0.567266  0.799187  0.750819   \n",
       "radius_km          -0.534434    -0.567266   1.000000 -0.887393 -0.478901   \n",
       "mag                 0.742646     0.799187  -0.887393  1.000000  0.554617   \n",
       "ecc                 0.737181     0.750819  -0.478901  0.554617  1.000000   \n",
       "inclination_deg     0.969493     0.953873  -0.487645  0.688529  0.645961   \n",
       "\n",
       "                 inclination_deg  \n",
       "period_days             0.969493  \n",
       "distance_km             0.953873  \n",
       "radius_km              -0.487645  \n",
       "mag                     0.688529  \n",
       "ecc                     0.645961  \n",
       "inclination_deg         1.000000  "
      ]
     },
     "execution_count": 13,
     "metadata": {},
     "output_type": "execute_result"
    },
    {
     "data": {
      "image/png": "[encoded data removed]",
      "text/plain": [
       "<Figure size 640x480 with 2 Axes>"
      ]
     },
     "metadata": {},
     "output_type": "display_data"
    }
   ],
   "source": [
    "moons.corr_all()"
   ]
  }
 ],
 "metadata": {
  "kernelspec": {
   "display_name": "Python 3 (ipykernel)",
   "language": "python",
   "name": "python3"
  },
  "language_info": {
   "codemirror_mode": {
    "name": "ipython",
    "version": 3
   },
   "file_extension": ".py",
   "mimetype": "text/x-python",
   "name": "python",
   "nbconvert_exporter": "python",
   "pygments_lexer": "ipython3",
   "version": "3.9.13"
  }
 },
 "nbformat": 4,
 "nbformat_minor": 5
}
